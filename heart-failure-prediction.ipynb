{
 "cells": [
  {
   "cell_type": "code",
   "execution_count": 1,
   "id": "487fbe5c",
   "metadata": {
    "_cell_guid": "b1076dfc-b9ad-4769-8c92-a6c4dae69d19",
    "_uuid": "8f2839f25d086af736a60e9eeb907d3b93b6e0e5",
    "execution": {
     "iopub.execute_input": "2024-07-02T13:10:14.638302Z",
     "iopub.status.busy": "2024-07-02T13:10:14.637914Z",
     "iopub.status.idle": "2024-07-02T13:10:15.573035Z",
     "shell.execute_reply": "2024-07-02T13:10:15.570756Z"
    },
    "papermill": {
     "duration": 0.949453,
     "end_time": "2024-07-02T13:10:15.576944",
     "exception": false,
     "start_time": "2024-07-02T13:10:14.627491",
     "status": "completed"
    },
    "tags": []
   },
   "outputs": [
    {
     "name": "stdout",
     "output_type": "stream",
     "text": [
      "/kaggle/input/heart-failure-prediction/heart.csv\n"
     ]
    }
   ],
   "source": [
    "# This Python 3 environment comes with many helpful analytics libraries installed\n",
    "# It is defined by the kaggle/python Docker image: https://github.com/kaggle/docker-python\n",
    "# For example, here's several helpful packages to load\n",
    "\n",
    "import numpy as np # linear algebra\n",
    "import pandas as pd # data processing, CSV file I/O (e.g. pd.read_csv)\n",
    "\n",
    "# Input data files are available in the read-only \"../input/\" directory\n",
    "# For example, running this (by clicking run or pressing Shift+Enter) will list all files under the input directory\n",
    "\n",
    "import os\n",
    "for dirname, _, filenames in os.walk('/kaggle/input'):\n",
    "    for filename in filenames:\n",
    "        print(os.path.join(dirname, filename))\n",
    "\n",
    "# You can write up to 20GB to the current directory (/kaggle/working/) that gets preserved as output when you create a version using \"Save & Run All\" \n",
    "# You can also write temporary files to /kaggle/temp/, but they won't be saved outside of the current session"
   ]
  },
  {
   "cell_type": "code",
   "execution_count": 2,
   "id": "fb681ca0",
   "metadata": {
    "execution": {
     "iopub.execute_input": "2024-07-02T13:10:15.596766Z",
     "iopub.status.busy": "2024-07-02T13:10:15.596211Z",
     "iopub.status.idle": "2024-07-02T13:10:17.124242Z",
     "shell.execute_reply": "2024-07-02T13:10:17.122873Z"
    },
    "papermill": {
     "duration": 1.54167,
     "end_time": "2024-07-02T13:10:17.127481",
     "exception": false,
     "start_time": "2024-07-02T13:10:15.585811",
     "status": "completed"
    },
    "tags": []
   },
   "outputs": [],
   "source": [
    "from sklearn.model_selection import train_test_split\n",
    "import warnings\n",
    "warnings.filterwarnings(\"ignore\")"
   ]
  },
  {
   "cell_type": "code",
   "execution_count": 3,
   "id": "a1598b3b",
   "metadata": {
    "execution": {
     "iopub.execute_input": "2024-07-02T13:10:17.150569Z",
     "iopub.status.busy": "2024-07-02T13:10:17.150145Z",
     "iopub.status.idle": "2024-07-02T13:10:17.172307Z",
     "shell.execute_reply": "2024-07-02T13:10:17.171003Z"
    },
    "papermill": {
     "duration": 0.035673,
     "end_time": "2024-07-02T13:10:17.175787",
     "exception": false,
     "start_time": "2024-07-02T13:10:17.140114",
     "status": "completed"
    },
    "tags": []
   },
   "outputs": [],
   "source": [
    "df = pd.read_csv(\"/kaggle/input/heart-failure-prediction/heart.csv\")"
   ]
  },
  {
   "cell_type": "code",
   "execution_count": 4,
   "id": "7d04b8ac",
   "metadata": {
    "execution": {
     "iopub.execute_input": "2024-07-02T13:10:17.199736Z",
     "iopub.status.busy": "2024-07-02T13:10:17.197762Z",
     "iopub.status.idle": "2024-07-02T13:10:17.238757Z",
     "shell.execute_reply": "2024-07-02T13:10:17.237439Z"
    },
    "papermill": {
     "duration": 0.056464,
     "end_time": "2024-07-02T13:10:17.241387",
     "exception": false,
     "start_time": "2024-07-02T13:10:17.184923",
     "status": "completed"
    },
    "tags": []
   },
   "outputs": [
    {
     "data": {
      "text/html": [
       "<div>\n",
       "<style scoped>\n",
       "    .dataframe tbody tr th:only-of-type {\n",
       "        vertical-align: middle;\n",
       "    }\n",
       "\n",
       "    .dataframe tbody tr th {\n",
       "        vertical-align: top;\n",
       "    }\n",
       "\n",
       "    .dataframe thead th {\n",
       "        text-align: right;\n",
       "    }\n",
       "</style>\n",
       "<table border=\"1\" class=\"dataframe\">\n",
       "  <thead>\n",
       "    <tr style=\"text-align: right;\">\n",
       "      <th></th>\n",
       "      <th>Age</th>\n",
       "      <th>Sex</th>\n",
       "      <th>ChestPainType</th>\n",
       "      <th>RestingBP</th>\n",
       "      <th>Cholesterol</th>\n",
       "      <th>FastingBS</th>\n",
       "      <th>RestingECG</th>\n",
       "      <th>MaxHR</th>\n",
       "      <th>ExerciseAngina</th>\n",
       "      <th>Oldpeak</th>\n",
       "      <th>ST_Slope</th>\n",
       "      <th>HeartDisease</th>\n",
       "    </tr>\n",
       "  </thead>\n",
       "  <tbody>\n",
       "    <tr>\n",
       "      <th>0</th>\n",
       "      <td>40</td>\n",
       "      <td>M</td>\n",
       "      <td>ATA</td>\n",
       "      <td>140</td>\n",
       "      <td>289</td>\n",
       "      <td>0</td>\n",
       "      <td>Normal</td>\n",
       "      <td>172</td>\n",
       "      <td>N</td>\n",
       "      <td>0.0</td>\n",
       "      <td>Up</td>\n",
       "      <td>0</td>\n",
       "    </tr>\n",
       "    <tr>\n",
       "      <th>1</th>\n",
       "      <td>49</td>\n",
       "      <td>F</td>\n",
       "      <td>NAP</td>\n",
       "      <td>160</td>\n",
       "      <td>180</td>\n",
       "      <td>0</td>\n",
       "      <td>Normal</td>\n",
       "      <td>156</td>\n",
       "      <td>N</td>\n",
       "      <td>1.0</td>\n",
       "      <td>Flat</td>\n",
       "      <td>1</td>\n",
       "    </tr>\n",
       "    <tr>\n",
       "      <th>2</th>\n",
       "      <td>37</td>\n",
       "      <td>M</td>\n",
       "      <td>ATA</td>\n",
       "      <td>130</td>\n",
       "      <td>283</td>\n",
       "      <td>0</td>\n",
       "      <td>ST</td>\n",
       "      <td>98</td>\n",
       "      <td>N</td>\n",
       "      <td>0.0</td>\n",
       "      <td>Up</td>\n",
       "      <td>0</td>\n",
       "    </tr>\n",
       "    <tr>\n",
       "      <th>3</th>\n",
       "      <td>48</td>\n",
       "      <td>F</td>\n",
       "      <td>ASY</td>\n",
       "      <td>138</td>\n",
       "      <td>214</td>\n",
       "      <td>0</td>\n",
       "      <td>Normal</td>\n",
       "      <td>108</td>\n",
       "      <td>Y</td>\n",
       "      <td>1.5</td>\n",
       "      <td>Flat</td>\n",
       "      <td>1</td>\n",
       "    </tr>\n",
       "    <tr>\n",
       "      <th>4</th>\n",
       "      <td>54</td>\n",
       "      <td>M</td>\n",
       "      <td>NAP</td>\n",
       "      <td>150</td>\n",
       "      <td>195</td>\n",
       "      <td>0</td>\n",
       "      <td>Normal</td>\n",
       "      <td>122</td>\n",
       "      <td>N</td>\n",
       "      <td>0.0</td>\n",
       "      <td>Up</td>\n",
       "      <td>0</td>\n",
       "    </tr>\n",
       "  </tbody>\n",
       "</table>\n",
       "</div>"
      ],
      "text/plain": [
       "   Age Sex ChestPainType  RestingBP  Cholesterol  FastingBS RestingECG  MaxHR  \\\n",
       "0   40   M           ATA        140          289          0     Normal    172   \n",
       "1   49   F           NAP        160          180          0     Normal    156   \n",
       "2   37   M           ATA        130          283          0         ST     98   \n",
       "3   48   F           ASY        138          214          0     Normal    108   \n",
       "4   54   M           NAP        150          195          0     Normal    122   \n",
       "\n",
       "  ExerciseAngina  Oldpeak ST_Slope  HeartDisease  \n",
       "0              N      0.0       Up             0  \n",
       "1              N      1.0     Flat             1  \n",
       "2              N      0.0       Up             0  \n",
       "3              Y      1.5     Flat             1  \n",
       "4              N      0.0       Up             0  "
      ]
     },
     "execution_count": 4,
     "metadata": {},
     "output_type": "execute_result"
    }
   ],
   "source": [
    "df.head(5)"
   ]
  },
  {
   "cell_type": "code",
   "execution_count": 5,
   "id": "ee3e21e9",
   "metadata": {
    "execution": {
     "iopub.execute_input": "2024-07-02T13:10:17.261346Z",
     "iopub.status.busy": "2024-07-02T13:10:17.260842Z",
     "iopub.status.idle": "2024-07-02T13:10:17.286327Z",
     "shell.execute_reply": "2024-07-02T13:10:17.284695Z"
    },
    "papermill": {
     "duration": 0.039213,
     "end_time": "2024-07-02T13:10:17.289347",
     "exception": false,
     "start_time": "2024-07-02T13:10:17.250134",
     "status": "completed"
    },
    "tags": []
   },
   "outputs": [
    {
     "name": "stdout",
     "output_type": "stream",
     "text": [
      "<class 'pandas.core.frame.DataFrame'>\n",
      "RangeIndex: 918 entries, 0 to 917\n",
      "Data columns (total 12 columns):\n",
      " #   Column          Non-Null Count  Dtype  \n",
      "---  ------          --------------  -----  \n",
      " 0   Age             918 non-null    int64  \n",
      " 1   Sex             918 non-null    object \n",
      " 2   ChestPainType   918 non-null    object \n",
      " 3   RestingBP       918 non-null    int64  \n",
      " 4   Cholesterol     918 non-null    int64  \n",
      " 5   FastingBS       918 non-null    int64  \n",
      " 6   RestingECG      918 non-null    object \n",
      " 7   MaxHR           918 non-null    int64  \n",
      " 8   ExerciseAngina  918 non-null    object \n",
      " 9   Oldpeak         918 non-null    float64\n",
      " 10  ST_Slope        918 non-null    object \n",
      " 11  HeartDisease    918 non-null    int64  \n",
      "dtypes: float64(1), int64(6), object(5)\n",
      "memory usage: 86.2+ KB\n"
     ]
    }
   ],
   "source": [
    "df.info()"
   ]
  },
  {
   "cell_type": "code",
   "execution_count": 6,
   "id": "1862ba1c",
   "metadata": {
    "execution": {
     "iopub.execute_input": "2024-07-02T13:10:17.309003Z",
     "iopub.status.busy": "2024-07-02T13:10:17.308454Z",
     "iopub.status.idle": "2024-07-02T13:10:17.320338Z",
     "shell.execute_reply": "2024-07-02T13:10:17.318983Z"
    },
    "papermill": {
     "duration": 0.024743,
     "end_time": "2024-07-02T13:10:17.322905",
     "exception": false,
     "start_time": "2024-07-02T13:10:17.298162",
     "status": "completed"
    },
    "tags": []
   },
   "outputs": [
    {
     "data": {
      "text/plain": [
       "Age               0\n",
       "Sex               0\n",
       "ChestPainType     0\n",
       "RestingBP         0\n",
       "Cholesterol       0\n",
       "FastingBS         0\n",
       "RestingECG        0\n",
       "MaxHR             0\n",
       "ExerciseAngina    0\n",
       "Oldpeak           0\n",
       "ST_Slope          0\n",
       "HeartDisease      0\n",
       "dtype: int64"
      ]
     },
     "execution_count": 6,
     "metadata": {},
     "output_type": "execute_result"
    }
   ],
   "source": [
    "df.isnull().sum()"
   ]
  },
  {
   "cell_type": "code",
   "execution_count": 7,
   "id": "af314cfd",
   "metadata": {
    "execution": {
     "iopub.execute_input": "2024-07-02T13:10:17.343150Z",
     "iopub.status.busy": "2024-07-02T13:10:17.342594Z",
     "iopub.status.idle": "2024-07-02T13:10:17.352756Z",
     "shell.execute_reply": "2024-07-02T13:10:17.351337Z"
    },
    "papermill": {
     "duration": 0.023332,
     "end_time": "2024-07-02T13:10:17.355425",
     "exception": false,
     "start_time": "2024-07-02T13:10:17.332093",
     "status": "completed"
    },
    "tags": []
   },
   "outputs": [
    {
     "name": "stdout",
     "output_type": "stream",
     "text": [
      "['ATA' 'NAP' 'ASY' 'TA']\n",
      "['Normal' 'ST' 'LVH']\n",
      "['Up' 'Flat' 'Down']\n"
     ]
    }
   ],
   "source": [
    "print(df[\"ChestPainType\"].unique())\n",
    "print(df[\"RestingECG\"].unique())\n",
    "print(df[\"ST_Slope\"].unique())"
   ]
  },
  {
   "cell_type": "code",
   "execution_count": 8,
   "id": "53ba0e50",
   "metadata": {
    "execution": {
     "iopub.execute_input": "2024-07-02T13:10:17.381157Z",
     "iopub.status.busy": "2024-07-02T13:10:17.380306Z",
     "iopub.status.idle": "2024-07-02T13:10:17.397672Z",
     "shell.execute_reply": "2024-07-02T13:10:17.396465Z"
    },
    "papermill": {
     "duration": 0.031213,
     "end_time": "2024-07-02T13:10:17.400371",
     "exception": false,
     "start_time": "2024-07-02T13:10:17.369158",
     "status": "completed"
    },
    "tags": []
   },
   "outputs": [],
   "source": [
    "one_hot = pd.get_dummies(df, columns = ['Sex', 'ChestPainType', 'RestingECG', 'ExerciseAngina', 'ST_Slope'], dtype = 'float')"
   ]
  },
  {
   "cell_type": "code",
   "execution_count": 9,
   "id": "7840abb0",
   "metadata": {
    "execution": {
     "iopub.execute_input": "2024-07-02T13:10:17.420042Z",
     "iopub.status.busy": "2024-07-02T13:10:17.419514Z",
     "iopub.status.idle": "2024-07-02T13:10:17.451663Z",
     "shell.execute_reply": "2024-07-02T13:10:17.450469Z"
    },
    "papermill": {
     "duration": 0.045711,
     "end_time": "2024-07-02T13:10:17.454808",
     "exception": false,
     "start_time": "2024-07-02T13:10:17.409097",
     "status": "completed"
    },
    "tags": []
   },
   "outputs": [
    {
     "data": {
      "text/html": [
       "<div>\n",
       "<style scoped>\n",
       "    .dataframe tbody tr th:only-of-type {\n",
       "        vertical-align: middle;\n",
       "    }\n",
       "\n",
       "    .dataframe tbody tr th {\n",
       "        vertical-align: top;\n",
       "    }\n",
       "\n",
       "    .dataframe thead th {\n",
       "        text-align: right;\n",
       "    }\n",
       "</style>\n",
       "<table border=\"1\" class=\"dataframe\">\n",
       "  <thead>\n",
       "    <tr style=\"text-align: right;\">\n",
       "      <th></th>\n",
       "      <th>Age</th>\n",
       "      <th>RestingBP</th>\n",
       "      <th>Cholesterol</th>\n",
       "      <th>FastingBS</th>\n",
       "      <th>MaxHR</th>\n",
       "      <th>Oldpeak</th>\n",
       "      <th>HeartDisease</th>\n",
       "      <th>Sex_F</th>\n",
       "      <th>Sex_M</th>\n",
       "      <th>ChestPainType_ASY</th>\n",
       "      <th>...</th>\n",
       "      <th>ChestPainType_NAP</th>\n",
       "      <th>ChestPainType_TA</th>\n",
       "      <th>RestingECG_LVH</th>\n",
       "      <th>RestingECG_Normal</th>\n",
       "      <th>RestingECG_ST</th>\n",
       "      <th>ExerciseAngina_N</th>\n",
       "      <th>ExerciseAngina_Y</th>\n",
       "      <th>ST_Slope_Down</th>\n",
       "      <th>ST_Slope_Flat</th>\n",
       "      <th>ST_Slope_Up</th>\n",
       "    </tr>\n",
       "  </thead>\n",
       "  <tbody>\n",
       "    <tr>\n",
       "      <th>0</th>\n",
       "      <td>40</td>\n",
       "      <td>140</td>\n",
       "      <td>289</td>\n",
       "      <td>0</td>\n",
       "      <td>172</td>\n",
       "      <td>0.0</td>\n",
       "      <td>0</td>\n",
       "      <td>0.0</td>\n",
       "      <td>1.0</td>\n",
       "      <td>0.0</td>\n",
       "      <td>...</td>\n",
       "      <td>0.0</td>\n",
       "      <td>0.0</td>\n",
       "      <td>0.0</td>\n",
       "      <td>1.0</td>\n",
       "      <td>0.0</td>\n",
       "      <td>1.0</td>\n",
       "      <td>0.0</td>\n",
       "      <td>0.0</td>\n",
       "      <td>0.0</td>\n",
       "      <td>1.0</td>\n",
       "    </tr>\n",
       "    <tr>\n",
       "      <th>1</th>\n",
       "      <td>49</td>\n",
       "      <td>160</td>\n",
       "      <td>180</td>\n",
       "      <td>0</td>\n",
       "      <td>156</td>\n",
       "      <td>1.0</td>\n",
       "      <td>1</td>\n",
       "      <td>1.0</td>\n",
       "      <td>0.0</td>\n",
       "      <td>0.0</td>\n",
       "      <td>...</td>\n",
       "      <td>1.0</td>\n",
       "      <td>0.0</td>\n",
       "      <td>0.0</td>\n",
       "      <td>1.0</td>\n",
       "      <td>0.0</td>\n",
       "      <td>1.0</td>\n",
       "      <td>0.0</td>\n",
       "      <td>0.0</td>\n",
       "      <td>1.0</td>\n",
       "      <td>0.0</td>\n",
       "    </tr>\n",
       "    <tr>\n",
       "      <th>2</th>\n",
       "      <td>37</td>\n",
       "      <td>130</td>\n",
       "      <td>283</td>\n",
       "      <td>0</td>\n",
       "      <td>98</td>\n",
       "      <td>0.0</td>\n",
       "      <td>0</td>\n",
       "      <td>0.0</td>\n",
       "      <td>1.0</td>\n",
       "      <td>0.0</td>\n",
       "      <td>...</td>\n",
       "      <td>0.0</td>\n",
       "      <td>0.0</td>\n",
       "      <td>0.0</td>\n",
       "      <td>0.0</td>\n",
       "      <td>1.0</td>\n",
       "      <td>1.0</td>\n",
       "      <td>0.0</td>\n",
       "      <td>0.0</td>\n",
       "      <td>0.0</td>\n",
       "      <td>1.0</td>\n",
       "    </tr>\n",
       "    <tr>\n",
       "      <th>3</th>\n",
       "      <td>48</td>\n",
       "      <td>138</td>\n",
       "      <td>214</td>\n",
       "      <td>0</td>\n",
       "      <td>108</td>\n",
       "      <td>1.5</td>\n",
       "      <td>1</td>\n",
       "      <td>1.0</td>\n",
       "      <td>0.0</td>\n",
       "      <td>1.0</td>\n",
       "      <td>...</td>\n",
       "      <td>0.0</td>\n",
       "      <td>0.0</td>\n",
       "      <td>0.0</td>\n",
       "      <td>1.0</td>\n",
       "      <td>0.0</td>\n",
       "      <td>0.0</td>\n",
       "      <td>1.0</td>\n",
       "      <td>0.0</td>\n",
       "      <td>1.0</td>\n",
       "      <td>0.0</td>\n",
       "    </tr>\n",
       "    <tr>\n",
       "      <th>4</th>\n",
       "      <td>54</td>\n",
       "      <td>150</td>\n",
       "      <td>195</td>\n",
       "      <td>0</td>\n",
       "      <td>122</td>\n",
       "      <td>0.0</td>\n",
       "      <td>0</td>\n",
       "      <td>0.0</td>\n",
       "      <td>1.0</td>\n",
       "      <td>0.0</td>\n",
       "      <td>...</td>\n",
       "      <td>1.0</td>\n",
       "      <td>0.0</td>\n",
       "      <td>0.0</td>\n",
       "      <td>1.0</td>\n",
       "      <td>0.0</td>\n",
       "      <td>1.0</td>\n",
       "      <td>0.0</td>\n",
       "      <td>0.0</td>\n",
       "      <td>0.0</td>\n",
       "      <td>1.0</td>\n",
       "    </tr>\n",
       "  </tbody>\n",
       "</table>\n",
       "<p>5 rows × 21 columns</p>\n",
       "</div>"
      ],
      "text/plain": [
       "   Age  RestingBP  Cholesterol  FastingBS  MaxHR  Oldpeak  HeartDisease  \\\n",
       "0   40        140          289          0    172      0.0             0   \n",
       "1   49        160          180          0    156      1.0             1   \n",
       "2   37        130          283          0     98      0.0             0   \n",
       "3   48        138          214          0    108      1.5             1   \n",
       "4   54        150          195          0    122      0.0             0   \n",
       "\n",
       "   Sex_F  Sex_M  ChestPainType_ASY  ...  ChestPainType_NAP  ChestPainType_TA  \\\n",
       "0    0.0    1.0                0.0  ...                0.0               0.0   \n",
       "1    1.0    0.0                0.0  ...                1.0               0.0   \n",
       "2    0.0    1.0                0.0  ...                0.0               0.0   \n",
       "3    1.0    0.0                1.0  ...                0.0               0.0   \n",
       "4    0.0    1.0                0.0  ...                1.0               0.0   \n",
       "\n",
       "   RestingECG_LVH  RestingECG_Normal  RestingECG_ST  ExerciseAngina_N  \\\n",
       "0             0.0                1.0            0.0               1.0   \n",
       "1             0.0                1.0            0.0               1.0   \n",
       "2             0.0                0.0            1.0               1.0   \n",
       "3             0.0                1.0            0.0               0.0   \n",
       "4             0.0                1.0            0.0               1.0   \n",
       "\n",
       "   ExerciseAngina_Y  ST_Slope_Down  ST_Slope_Flat  ST_Slope_Up  \n",
       "0               0.0            0.0            0.0          1.0  \n",
       "1               0.0            0.0            1.0          0.0  \n",
       "2               0.0            0.0            0.0          1.0  \n",
       "3               1.0            0.0            1.0          0.0  \n",
       "4               0.0            0.0            0.0          1.0  \n",
       "\n",
       "[5 rows x 21 columns]"
      ]
     },
     "execution_count": 9,
     "metadata": {},
     "output_type": "execute_result"
    }
   ],
   "source": [
    "one_hot.head(5)"
   ]
  },
  {
   "cell_type": "code",
   "execution_count": 10,
   "id": "7f86afe1",
   "metadata": {
    "execution": {
     "iopub.execute_input": "2024-07-02T13:10:17.479863Z",
     "iopub.status.busy": "2024-07-02T13:10:17.478773Z",
     "iopub.status.idle": "2024-07-02T13:10:17.486922Z",
     "shell.execute_reply": "2024-07-02T13:10:17.485656Z"
    },
    "papermill": {
     "duration": 0.020962,
     "end_time": "2024-07-02T13:10:17.489163",
     "exception": false,
     "start_time": "2024-07-02T13:10:17.468201",
     "status": "completed"
    },
    "tags": []
   },
   "outputs": [
    {
     "data": {
      "text/plain": [
       "(918, 21)"
      ]
     },
     "execution_count": 10,
     "metadata": {},
     "output_type": "execute_result"
    }
   ],
   "source": [
    "one_hot.shape"
   ]
  },
  {
   "cell_type": "code",
   "execution_count": 11,
   "id": "955bdc9a",
   "metadata": {
    "execution": {
     "iopub.execute_input": "2024-07-02T13:10:17.510097Z",
     "iopub.status.busy": "2024-07-02T13:10:17.508987Z",
     "iopub.status.idle": "2024-07-02T13:10:17.516758Z",
     "shell.execute_reply": "2024-07-02T13:10:17.515537Z"
    },
    "papermill": {
     "duration": 0.021011,
     "end_time": "2024-07-02T13:10:17.519422",
     "exception": false,
     "start_time": "2024-07-02T13:10:17.498411",
     "status": "completed"
    },
    "tags": []
   },
   "outputs": [],
   "source": [
    "train = one_hot.drop(columns = ['HeartDisease'])\n",
    "target = one_hot['HeartDisease']"
   ]
  },
  {
   "cell_type": "code",
   "execution_count": 12,
   "id": "80c234ce",
   "metadata": {
    "execution": {
     "iopub.execute_input": "2024-07-02T13:10:17.540656Z",
     "iopub.status.busy": "2024-07-02T13:10:17.540091Z",
     "iopub.status.idle": "2024-07-02T13:10:17.553634Z",
     "shell.execute_reply": "2024-07-02T13:10:17.552425Z"
    },
    "papermill": {
     "duration": 0.027574,
     "end_time": "2024-07-02T13:10:17.556348",
     "exception": false,
     "start_time": "2024-07-02T13:10:17.528774",
     "status": "completed"
    },
    "tags": []
   },
   "outputs": [],
   "source": [
    "x_train, x_test, y_train, y_test = train_test_split(train, target, test_size = 0.2, random_state = 40)"
   ]
  },
  {
   "cell_type": "code",
   "execution_count": 13,
   "id": "e5cd1e6a",
   "metadata": {
    "execution": {
     "iopub.execute_input": "2024-07-02T13:10:17.577205Z",
     "iopub.status.busy": "2024-07-02T13:10:17.576800Z",
     "iopub.status.idle": "2024-07-02T13:10:17.581943Z",
     "shell.execute_reply": "2024-07-02T13:10:17.580689Z"
    },
    "papermill": {
     "duration": 0.018335,
     "end_time": "2024-07-02T13:10:17.584503",
     "exception": false,
     "start_time": "2024-07-02T13:10:17.566168",
     "status": "completed"
    },
    "tags": []
   },
   "outputs": [],
   "source": [
    "from sklearn.preprocessing import StandardScaler"
   ]
  },
  {
   "cell_type": "code",
   "execution_count": 14,
   "id": "5628f926",
   "metadata": {
    "execution": {
     "iopub.execute_input": "2024-07-02T13:10:17.606518Z",
     "iopub.status.busy": "2024-07-02T13:10:17.606069Z",
     "iopub.status.idle": "2024-07-02T13:10:17.623864Z",
     "shell.execute_reply": "2024-07-02T13:10:17.622432Z"
    },
    "papermill": {
     "duration": 0.032261,
     "end_time": "2024-07-02T13:10:17.626897",
     "exception": false,
     "start_time": "2024-07-02T13:10:17.594636",
     "status": "completed"
    },
    "tags": []
   },
   "outputs": [],
   "source": [
    "cols = ['Age', 'RestingBP', 'Cholesterol', 'MaxHR']\n",
    "scaler = StandardScaler()\n",
    "x_train[cols] = scaler.fit_transform(x_train[cols])\n",
    "x_test[cols] = scaler.transform(x_test[cols])"
   ]
  },
  {
   "cell_type": "markdown",
   "id": "666a29f0",
   "metadata": {
    "papermill": {
     "duration": 0.008744,
     "end_time": "2024-07-02T13:10:17.644810",
     "exception": false,
     "start_time": "2024-07-02T13:10:17.636066",
     "status": "completed"
    },
    "tags": []
   },
   "source": [
    "# Support Vector Classifier"
   ]
  },
  {
   "cell_type": "code",
   "execution_count": 15,
   "id": "2bee15e2",
   "metadata": {
    "execution": {
     "iopub.execute_input": "2024-07-02T13:10:17.666457Z",
     "iopub.status.busy": "2024-07-02T13:10:17.666055Z",
     "iopub.status.idle": "2024-07-02T13:10:17.775788Z",
     "shell.execute_reply": "2024-07-02T13:10:17.774156Z"
    },
    "papermill": {
     "duration": 0.123818,
     "end_time": "2024-07-02T13:10:17.779217",
     "exception": false,
     "start_time": "2024-07-02T13:10:17.655399",
     "status": "completed"
    },
    "tags": []
   },
   "outputs": [],
   "source": [
    "from sklearn.model_selection import GridSearchCV\n",
    "from sklearn.svm import SVC"
   ]
  },
  {
   "cell_type": "code",
   "execution_count": 16,
   "id": "cc9c3d96",
   "metadata": {
    "execution": {
     "iopub.execute_input": "2024-07-02T13:10:17.804742Z",
     "iopub.status.busy": "2024-07-02T13:10:17.804222Z",
     "iopub.status.idle": "2024-07-02T13:10:17.810904Z",
     "shell.execute_reply": "2024-07-02T13:10:17.809646Z"
    },
    "papermill": {
     "duration": 0.02043,
     "end_time": "2024-07-02T13:10:17.813465",
     "exception": false,
     "start_time": "2024-07-02T13:10:17.793035",
     "status": "completed"
    },
    "tags": []
   },
   "outputs": [],
   "source": [
    "param_grid = {\n",
    "    'C': [0.1, 1, 10, 100],\n",
    "    'kernel': ['linear', 'poly', 'rbf', 'sigmoid'],\n",
    "    'gamma': [0.001, 0.01, 0.1, 1]\n",
    "}"
   ]
  },
  {
   "cell_type": "code",
   "execution_count": 17,
   "id": "8486fd44",
   "metadata": {
    "execution": {
     "iopub.execute_input": "2024-07-02T13:10:17.835226Z",
     "iopub.status.busy": "2024-07-02T13:10:17.833988Z",
     "iopub.status.idle": "2024-07-02T13:10:17.840340Z",
     "shell.execute_reply": "2024-07-02T13:10:17.839143Z"
    },
    "papermill": {
     "duration": 0.019699,
     "end_time": "2024-07-02T13:10:17.842566",
     "exception": false,
     "start_time": "2024-07-02T13:10:17.822867",
     "status": "completed"
    },
    "tags": []
   },
   "outputs": [],
   "source": [
    "svc = SVC()\n",
    "grid_search = GridSearchCV(estimator=svc, param_grid=param_grid, cv=5, scoring='accuracy')"
   ]
  },
  {
   "cell_type": "code",
   "execution_count": 18,
   "id": "f4fe2d4e",
   "metadata": {
    "execution": {
     "iopub.execute_input": "2024-07-02T13:10:17.863637Z",
     "iopub.status.busy": "2024-07-02T13:10:17.862538Z",
     "iopub.status.idle": "2024-07-02T13:10:30.192198Z",
     "shell.execute_reply": "2024-07-02T13:10:30.190696Z"
    },
    "papermill": {
     "duration": 12.343148,
     "end_time": "2024-07-02T13:10:30.195119",
     "exception": false,
     "start_time": "2024-07-02T13:10:17.851971",
     "status": "completed"
    },
    "tags": []
   },
   "outputs": [
    {
     "name": "stdout",
     "output_type": "stream",
     "text": [
      "Best parameters for SVC: {'C': 1, 'gamma': 0.1, 'kernel': 'rbf'}\n",
      "Best cross-validation score: 0.8733482434069518\n"
     ]
    }
   ],
   "source": [
    "grid_search.fit(x_train, y_train)\n",
    "\n",
    "print(\"Best parameters for SVC:\", grid_search.best_params_)\n",
    "print(\"Best cross-validation score:\", grid_search.best_score_)"
   ]
  },
  {
   "cell_type": "code",
   "execution_count": 19,
   "id": "eae83f84",
   "metadata": {
    "execution": {
     "iopub.execute_input": "2024-07-02T13:10:30.216649Z",
     "iopub.status.busy": "2024-07-02T13:10:30.216205Z",
     "iopub.status.idle": "2024-07-02T13:10:30.221451Z",
     "shell.execute_reply": "2024-07-02T13:10:30.220325Z"
    },
    "papermill": {
     "duration": 0.018526,
     "end_time": "2024-07-02T13:10:30.223951",
     "exception": false,
     "start_time": "2024-07-02T13:10:30.205425",
     "status": "completed"
    },
    "tags": []
   },
   "outputs": [],
   "source": [
    "best_svc_model = grid_search.best_estimator_"
   ]
  },
  {
   "cell_type": "markdown",
   "id": "694c8e83",
   "metadata": {
    "papermill": {
     "duration": 0.009444,
     "end_time": "2024-07-02T13:10:30.242801",
     "exception": false,
     "start_time": "2024-07-02T13:10:30.233357",
     "status": "completed"
    },
    "tags": []
   },
   "source": [
    "# Logistic Regression"
   ]
  },
  {
   "cell_type": "code",
   "execution_count": 20,
   "id": "381ca788",
   "metadata": {
    "execution": {
     "iopub.execute_input": "2024-07-02T13:10:30.263318Z",
     "iopub.status.busy": "2024-07-02T13:10:30.262893Z",
     "iopub.status.idle": "2024-07-02T13:10:30.268113Z",
     "shell.execute_reply": "2024-07-02T13:10:30.266859Z"
    },
    "papermill": {
     "duration": 0.018404,
     "end_time": "2024-07-02T13:10:30.270427",
     "exception": false,
     "start_time": "2024-07-02T13:10:30.252023",
     "status": "completed"
    },
    "tags": []
   },
   "outputs": [],
   "source": [
    "from sklearn.linear_model import LogisticRegression"
   ]
  },
  {
   "cell_type": "code",
   "execution_count": 21,
   "id": "808b199f",
   "metadata": {
    "execution": {
     "iopub.execute_input": "2024-07-02T13:10:30.291135Z",
     "iopub.status.busy": "2024-07-02T13:10:30.290725Z",
     "iopub.status.idle": "2024-07-02T13:10:38.959471Z",
     "shell.execute_reply": "2024-07-02T13:10:38.957958Z"
    },
    "papermill": {
     "duration": 8.682315,
     "end_time": "2024-07-02T13:10:38.962419",
     "exception": false,
     "start_time": "2024-07-02T13:10:30.280104",
     "status": "completed"
    },
    "tags": []
   },
   "outputs": [
    {
     "name": "stdout",
     "output_type": "stream",
     "text": [
      "Best parameters for Logistic Regression: {'C': 1, 'penalty': 'l2', 'solver': 'liblinear'}\n",
      "Best cross-validation score: 0.8583356630323362\n"
     ]
    }
   ],
   "source": [
    "logreg = LogisticRegression(max_iter=1000)\n",
    "param_grid = {\n",
    "    'C': [0.01, 0.1, 1, 10, 100],\n",
    "    'solver': ['newton-cg', 'lbfgs', 'liblinear', 'sag', 'saga'],\n",
    "    'penalty': ['l2', 'none', 'l1']\n",
    "}\n",
    "\n",
    "grid_search = GridSearchCV(estimator=logreg, param_grid=param_grid, cv=5, scoring='accuracy')\n",
    "\n",
    "grid_search.fit(x_train, y_train)\n",
    "\n",
    "print(\"Best parameters for Logistic Regression:\", grid_search.best_params_)\n",
    "print(\"Best cross-validation score:\", grid_search.best_score_)"
   ]
  },
  {
   "cell_type": "code",
   "execution_count": 22,
   "id": "28d85afe",
   "metadata": {
    "execution": {
     "iopub.execute_input": "2024-07-02T13:10:38.983659Z",
     "iopub.status.busy": "2024-07-02T13:10:38.982520Z",
     "iopub.status.idle": "2024-07-02T13:10:38.987966Z",
     "shell.execute_reply": "2024-07-02T13:10:38.986787Z"
    },
    "papermill": {
     "duration": 0.018341,
     "end_time": "2024-07-02T13:10:38.990152",
     "exception": false,
     "start_time": "2024-07-02T13:10:38.971811",
     "status": "completed"
    },
    "tags": []
   },
   "outputs": [],
   "source": [
    "best_lr_model = grid_search.best_estimator_"
   ]
  },
  {
   "cell_type": "markdown",
   "id": "b490c9c4",
   "metadata": {
    "papermill": {
     "duration": 0.009407,
     "end_time": "2024-07-02T13:10:39.009143",
     "exception": false,
     "start_time": "2024-07-02T13:10:38.999736",
     "status": "completed"
    },
    "tags": []
   },
   "source": [
    "# Gaussian Naive Bayes"
   ]
  },
  {
   "cell_type": "code",
   "execution_count": 23,
   "id": "2174dc94",
   "metadata": {
    "execution": {
     "iopub.execute_input": "2024-07-02T13:10:39.030012Z",
     "iopub.status.busy": "2024-07-02T13:10:39.029571Z",
     "iopub.status.idle": "2024-07-02T13:10:39.236740Z",
     "shell.execute_reply": "2024-07-02T13:10:39.235310Z"
    },
    "papermill": {
     "duration": 0.220367,
     "end_time": "2024-07-02T13:10:39.239297",
     "exception": false,
     "start_time": "2024-07-02T13:10:39.018930",
     "status": "completed"
    },
    "tags": []
   },
   "outputs": [
    {
     "name": "stdout",
     "output_type": "stream",
     "text": [
      "Best parameters for Naive Bayes: {'var_smoothing': 0.1}\n",
      "Best cross-validation score: 0.8569844376106607\n"
     ]
    }
   ],
   "source": [
    "from sklearn.naive_bayes import GaussianNB\n",
    "\n",
    "gnb = GaussianNB()\n",
    "\n",
    "param_grid = {\n",
    "    'var_smoothing': [1e-5, 1e-4, 1e-3, 1e-2, 1e-1, 1]\n",
    "}\n",
    "\n",
    "grid_search = GridSearchCV(estimator=gnb, param_grid=param_grid, cv=5, scoring='accuracy')\n",
    "\n",
    "grid_search.fit(x_train, y_train)\n",
    "\n",
    "print(\"Best parameters for Naive Bayes:\", grid_search.best_params_)\n",
    "print(\"Best cross-validation score:\", grid_search.best_score_)"
   ]
  },
  {
   "cell_type": "code",
   "execution_count": 24,
   "id": "2258b6db",
   "metadata": {
    "execution": {
     "iopub.execute_input": "2024-07-02T13:10:39.259929Z",
     "iopub.status.busy": "2024-07-02T13:10:39.259470Z",
     "iopub.status.idle": "2024-07-02T13:10:39.264639Z",
     "shell.execute_reply": "2024-07-02T13:10:39.263447Z"
    },
    "papermill": {
     "duration": 0.018331,
     "end_time": "2024-07-02T13:10:39.267024",
     "exception": false,
     "start_time": "2024-07-02T13:10:39.248693",
     "status": "completed"
    },
    "tags": []
   },
   "outputs": [],
   "source": [
    "best_gnb_model = grid_search.best_estimator_"
   ]
  },
  {
   "cell_type": "markdown",
   "id": "2bdb600a",
   "metadata": {
    "papermill": {
     "duration": 0.008864,
     "end_time": "2024-07-02T13:10:39.285302",
     "exception": false,
     "start_time": "2024-07-02T13:10:39.276438",
     "status": "completed"
    },
    "tags": []
   },
   "source": [
    "# Tesing the models"
   ]
  },
  {
   "cell_type": "code",
   "execution_count": 25,
   "id": "c0d0d302",
   "metadata": {
    "execution": {
     "iopub.execute_input": "2024-07-02T13:10:39.306909Z",
     "iopub.status.busy": "2024-07-02T13:10:39.305582Z",
     "iopub.status.idle": "2024-07-02T13:10:39.311742Z",
     "shell.execute_reply": "2024-07-02T13:10:39.310331Z"
    },
    "papermill": {
     "duration": 0.019648,
     "end_time": "2024-07-02T13:10:39.314265",
     "exception": false,
     "start_time": "2024-07-02T13:10:39.294617",
     "status": "completed"
    },
    "tags": []
   },
   "outputs": [],
   "source": [
    "from sklearn.metrics import accuracy_score, classification_report, confusion_matrix"
   ]
  },
  {
   "cell_type": "markdown",
   "id": "2794801d",
   "metadata": {
    "papermill": {
     "duration": 0.009365,
     "end_time": "2024-07-02T13:10:39.332950",
     "exception": false,
     "start_time": "2024-07-02T13:10:39.323585",
     "status": "completed"
    },
    "tags": []
   },
   "source": [
    "SVC MODEL"
   ]
  },
  {
   "cell_type": "code",
   "execution_count": 26,
   "id": "760e5282",
   "metadata": {
    "execution": {
     "iopub.execute_input": "2024-07-02T13:10:39.354314Z",
     "iopub.status.busy": "2024-07-02T13:10:39.353928Z",
     "iopub.status.idle": "2024-07-02T13:10:39.376754Z",
     "shell.execute_reply": "2024-07-02T13:10:39.375705Z"
    },
    "papermill": {
     "duration": 0.036705,
     "end_time": "2024-07-02T13:10:39.379216",
     "exception": false,
     "start_time": "2024-07-02T13:10:39.342511",
     "status": "completed"
    },
    "tags": []
   },
   "outputs": [
    {
     "name": "stdout",
     "output_type": "stream",
     "text": [
      "Accuracy: 0.8858695652173914\n",
      "Classification Report:\n",
      "              precision    recall  f1-score   support\n",
      "\n",
      "           0       0.90      0.81      0.85        75\n",
      "           1       0.88      0.94      0.91       109\n",
      "\n",
      "    accuracy                           0.89       184\n",
      "   macro avg       0.89      0.87      0.88       184\n",
      "weighted avg       0.89      0.89      0.88       184\n",
      "\n",
      "Confusion Matrix:\n",
      "[[ 61  14]\n",
      " [  7 102]]\n"
     ]
    }
   ],
   "source": [
    "y_pred = best_svc_model.predict(x_test)\n",
    "\n",
    "accuracy = accuracy_score(y_test, y_pred)\n",
    "print(\"Accuracy:\", accuracy)\n",
    "\n",
    "print(\"Classification Report:\")\n",
    "print(classification_report(y_test, y_pred))\n",
    "\n",
    "print(\"Confusion Matrix:\")\n",
    "print(confusion_matrix(y_test, y_pred))"
   ]
  },
  {
   "cell_type": "markdown",
   "id": "f8268227",
   "metadata": {
    "papermill": {
     "duration": 0.00927,
     "end_time": "2024-07-02T13:10:39.397796",
     "exception": false,
     "start_time": "2024-07-02T13:10:39.388526",
     "status": "completed"
    },
    "tags": []
   },
   "source": [
    "Logistic Regression Model"
   ]
  },
  {
   "cell_type": "code",
   "execution_count": 27,
   "id": "619988de",
   "metadata": {
    "execution": {
     "iopub.execute_input": "2024-07-02T13:10:39.418200Z",
     "iopub.status.busy": "2024-07-02T13:10:39.417783Z",
     "iopub.status.idle": "2024-07-02T13:10:39.443285Z",
     "shell.execute_reply": "2024-07-02T13:10:39.441782Z"
    },
    "papermill": {
     "duration": 0.038796,
     "end_time": "2024-07-02T13:10:39.445992",
     "exception": false,
     "start_time": "2024-07-02T13:10:39.407196",
     "status": "completed"
    },
    "tags": []
   },
   "outputs": [
    {
     "name": "stdout",
     "output_type": "stream",
     "text": [
      "Accuracy: 0.8913043478260869\n",
      "Classification Report:\n",
      "              precision    recall  f1-score   support\n",
      "\n",
      "           0       0.88      0.85      0.86        75\n",
      "           1       0.90      0.92      0.91       109\n",
      "\n",
      "    accuracy                           0.89       184\n",
      "   macro avg       0.89      0.89      0.89       184\n",
      "weighted avg       0.89      0.89      0.89       184\n",
      "\n",
      "Confusion Matrix:\n",
      "[[ 64  11]\n",
      " [  9 100]]\n"
     ]
    }
   ],
   "source": [
    "y_pred = best_lr_model.predict(x_test)\n",
    "\n",
    "accuracy = accuracy_score(y_test, y_pred)\n",
    "print(\"Accuracy:\", accuracy)\n",
    "\n",
    "print(\"Classification Report:\")\n",
    "print(classification_report(y_test, y_pred))\n",
    "\n",
    "print(\"Confusion Matrix:\")\n",
    "print(confusion_matrix(y_test, y_pred))"
   ]
  },
  {
   "cell_type": "code",
   "execution_count": 28,
   "id": "ded70847",
   "metadata": {
    "execution": {
     "iopub.execute_input": "2024-07-02T13:10:39.466981Z",
     "iopub.status.busy": "2024-07-02T13:10:39.466487Z",
     "iopub.status.idle": "2024-07-02T13:10:39.486982Z",
     "shell.execute_reply": "2024-07-02T13:10:39.485749Z"
    },
    "papermill": {
     "duration": 0.033697,
     "end_time": "2024-07-02T13:10:39.489398",
     "exception": false,
     "start_time": "2024-07-02T13:10:39.455701",
     "status": "completed"
    },
    "tags": []
   },
   "outputs": [
    {
     "name": "stdout",
     "output_type": "stream",
     "text": [
      "Accuracy: 0.8913043478260869\n",
      "Classification Report:\n",
      "              precision    recall  f1-score   support\n",
      "\n",
      "           0       0.87      0.87      0.87        75\n",
      "           1       0.91      0.91      0.91       109\n",
      "\n",
      "    accuracy                           0.89       184\n",
      "   macro avg       0.89      0.89      0.89       184\n",
      "weighted avg       0.89      0.89      0.89       184\n",
      "\n",
      "Confusion Matrix:\n",
      "[[65 10]\n",
      " [10 99]]\n"
     ]
    }
   ],
   "source": [
    "y_pred = best_gnb_model.predict(x_test)\n",
    "\n",
    "accuracy = accuracy_score(y_test, y_pred)\n",
    "print(\"Accuracy:\", accuracy)\n",
    "\n",
    "print(\"Classification Report:\")\n",
    "print(classification_report(y_test, y_pred))\n",
    "\n",
    "print(\"Confusion Matrix:\")\n",
    "print(confusion_matrix(y_test, y_pred))"
   ]
  },
  {
   "cell_type": "code",
   "execution_count": 29,
   "id": "facad69b",
   "metadata": {
    "execution": {
     "iopub.execute_input": "2024-07-02T13:10:39.510836Z",
     "iopub.status.busy": "2024-07-02T13:10:39.509848Z",
     "iopub.status.idle": "2024-07-02T13:10:39.514641Z",
     "shell.execute_reply": "2024-07-02T13:10:39.513642Z"
    },
    "papermill": {
     "duration": 0.017874,
     "end_time": "2024-07-02T13:10:39.516878",
     "exception": false,
     "start_time": "2024-07-02T13:10:39.499004",
     "status": "completed"
    },
    "tags": []
   },
   "outputs": [],
   "source": [
    "import pickle"
   ]
  },
  {
   "cell_type": "code",
   "execution_count": 30,
   "id": "7d13a4b9",
   "metadata": {
    "execution": {
     "iopub.execute_input": "2024-07-02T13:10:39.537869Z",
     "iopub.status.busy": "2024-07-02T13:10:39.537420Z",
     "iopub.status.idle": "2024-07-02T13:10:39.543675Z",
     "shell.execute_reply": "2024-07-02T13:10:39.542371Z"
    },
    "papermill": {
     "duration": 0.019574,
     "end_time": "2024-07-02T13:10:39.546187",
     "exception": false,
     "start_time": "2024-07-02T13:10:39.526613",
     "status": "completed"
    },
    "tags": []
   },
   "outputs": [],
   "source": [
    "filename = '/kaggle/working/' + 'finalized_model.sav'\n",
    "pickle.dump(best_gnb_model, open(filename, 'wb'))"
   ]
  },
  {
   "cell_type": "code",
   "execution_count": null,
   "id": "b6a429df",
   "metadata": {
    "papermill": {
     "duration": 0.009378,
     "end_time": "2024-07-02T13:10:39.565760",
     "exception": false,
     "start_time": "2024-07-02T13:10:39.556382",
     "status": "completed"
    },
    "tags": []
   },
   "outputs": [],
   "source": []
  }
 ],
 "metadata": {
  "kaggle": {
   "accelerator": "none",
   "dataSources": [
    {
     "datasetId": 1582403,
     "sourceId": 2603715,
     "sourceType": "datasetVersion"
    }
   ],
   "dockerImageVersionId": 30732,
   "isGpuEnabled": false,
   "isInternetEnabled": true,
   "language": "python",
   "sourceType": "notebook"
  },
  "kernelspec": {
   "display_name": "Python 3",
   "language": "python",
   "name": "python3"
  },
  "language_info": {
   "codemirror_mode": {
    "name": "ipython",
    "version": 3
   },
   "file_extension": ".py",
   "mimetype": "text/x-python",
   "name": "python",
   "nbconvert_exporter": "python",
   "pygments_lexer": "ipython3",
   "version": "3.10.13"
  },
  "papermill": {
   "default_parameters": {},
   "duration": 28.4332,
   "end_time": "2024-07-02T13:10:40.198482",
   "environment_variables": {},
   "exception": null,
   "input_path": "__notebook__.ipynb",
   "output_path": "__notebook__.ipynb",
   "parameters": {},
   "start_time": "2024-07-02T13:10:11.765282",
   "version": "2.5.0"
  }
 },
 "nbformat": 4,
 "nbformat_minor": 5
}
